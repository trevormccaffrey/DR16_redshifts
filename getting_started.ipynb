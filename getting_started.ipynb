{
 "cells": [
  {
   "cell_type": "markdown",
   "metadata": {},
   "source": [
    "Just seeing what the catalog looks like."
   ]
  },
  {
   "cell_type": "code",
   "execution_count": 1,
   "metadata": {},
   "outputs": [
    {
     "name": "stderr",
     "output_type": "stream",
     "text": [
      "/Users/trevormccaffrey/anaconda3/lib/python3.6/_collections_abc.py:841: MatplotlibDeprecationWarning: Support for setting the 'text.latex.preamble' or 'pgf.preamble' rcParam to a list of strings is deprecated since 3.3 and will be removed two minor releases later; set it to a single string instead.\n",
      "  self[key] = other[key]\n"
     ]
    }
   ],
   "source": [
    "from astropy.io import fits\n",
    "import pandas as pd\n",
    "import numpy as np\n",
    "import matplotlib.pyplot as plt\n",
    "import richardsplot"
   ]
  },
  {
   "cell_type": "code",
   "execution_count": 2,
   "metadata": {},
   "outputs": [
    {
     "name": "stdout",
     "output_type": "stream",
     "text": [
      "Filename: DR16Q_v4.fits\n",
      "No.    Name      Ver    Type      Cards   Dimensions   Format\n",
      "  0  PRIMARY       1 PrimaryHDU       4   ()      \n",
      "  1  CATALOG       1 BinTableHDU    375   750414R x 183C   [18A, D, D, J, J, I, 6A, 6A, I, D, I, D, I, I, I, K, D, I, I, D, I, D, I, D, D, I, D, 12A, D, J, 19A, D, K, D, D, K, D, D, K, D, D, K, D, D, K, D, D, K, D, D, K, D, E, 5D, 5D, 5D, E, D, D, D, D, D, D, D, D, K, K, K, K, K, K, J, J, J, 74J, 74J, 74I, 74I, B, J, 3A, J, J, J, D, D, D, D, 14A, J, D, 5E, 5D, 5E, 5D, 5E, D, D, I, D, D, D, D, I, D, D, D, D, D, D, D, D, E, E, E, E, E, E, E, E, E, I, E, E, E, E, E, E, E, E, E, I, I, D, D, D, D, D, D, J, D, D, D, J, D, D, D, J, D, 21A, D, D, E, E, D, K, D, D, E, E, E, E, E, E, E, D, I, 28A, D, D, D, D, D, D, D, D, D, D, D, D, D, D, D]   \n",
      "None \n",
      "\n"
     ]
    },
    {
     "data": {
      "text/plain": [
       "XTENSION= 'BINTABLE'           / binary table extension                         \n",
       "BITPIX  =                    8 / array data type                                \n",
       "NAXIS   =                    2 / number of array dimensions                     \n",
       "NAXIS1  =                 2290 / length of dimension 1                          \n",
       "NAXIS2  =               750414 / length of dimension 2                          \n",
       "PCOUNT  =                    0 / number of group parameters                     \n",
       "GCOUNT  =                    1 / number of groups                               \n",
       "TFIELDS =                  183 / number of table fields                         \n",
       "TTYPE1  = 'SDSS_NAME'                                                           \n",
       "TFORM1  = '18A     '                                                            \n",
       "TTYPE2  = 'RA      '                                                            \n",
       "TFORM2  = 'D       '                                                            \n",
       "TTYPE3  = 'DEC     '                                                            \n",
       "TFORM3  = 'D       '                                                            \n",
       "TTYPE4  = 'PLATE   '                                                            \n",
       "TFORM4  = 'J       '                                                            \n",
       "TTYPE5  = 'MJD     '                                                            \n",
       "TFORM5  = 'J       '                                                            \n",
       "TTYPE6  = 'FIBERID '                                                            \n",
       "TFORM6  = 'I       '                                                            \n",
       "TTYPE7  = 'AUTOCLASS_PQN'                                                       \n",
       "TFORM7  = '6A      '                                                            \n",
       "TTYPE8  = 'AUTOCLASS_DR14Q'                                                     \n",
       "TFORM8  = '6A      '                                                            \n",
       "TTYPE9  = 'IS_QSO_QN'                                                           \n",
       "TFORM9  = 'I       '                                                            \n",
       "TTYPE10 = 'Z_QN    '                                                            \n",
       "TFORM10 = 'D       '                                                            \n",
       "TTYPE11 = 'RANDOM_SELECT'                                                       \n",
       "TFORM11 = 'I       '                                                            "
      ]
     },
     "execution_count": 2,
     "metadata": {},
     "output_type": "execute_result"
    }
   ],
   "source": [
    "#Open the catalog of ~750k QSOs\n",
    "hdul = fits.open(\"DR16Q_v4.fits\")\n",
    "print(hdul.info(), \"\\n\")\n",
    "hdul[1].header[:30]"
   ]
  },
  {
   "cell_type": "code",
   "execution_count": 3,
   "metadata": {},
   "outputs": [],
   "source": [
    "data = hdul[1].data"
   ]
  },
  {
   "cell_type": "code",
   "execution_count": 4,
   "metadata": {},
   "outputs": [],
   "source": [
    "#Pick out some columns that might be useful\n",
    "#Need to convert data from big- to little-endian for pandas\n",
    "\n",
    "d = {\n",
    "    \"names\" : data['SDSS_NAME'].byteswap().newbyteorder(),\n",
    "    \"RA\"    : data['RA'].byteswap().newbyteorder(),\n",
    "    \"DEC\"   : data['DEC'].byteswap().newbyteorder(),\n",
    "    \"plate\" : data['PLATE'].byteswap().newbyteorder(),\n",
    "    \"mjd\"   : data['MJD'].byteswap().newbyteorder(),\n",
    "    \"fiber\" : data['FIBERID'].byteswap().newbyteorder(),\n",
    "    \"z\"     : data['Z'].byteswap().newbyteorder(),             #best identified redshift \n",
    "    \"z_vi\"  : data['Z_VI'].byteswap().newbyteorder(),          #redshift from visual inspection\n",
    "    \"z_src\" : data['SOURCE_Z'].byteswap().newbyteorder(),      #source of best-redshift determination\n",
    "    \"select\": data['RANDOM_SELECT'].byteswap().newbyteorder(),\n",
    "    \"objid\" : data['OBJID'].byteswap().newbyteorder()\n",
    "\n",
    "}"
   ]
  },
  {
   "cell_type": "code",
   "execution_count": 5,
   "metadata": {},
   "outputs": [
    {
     "data": {
      "text/plain": [
       "((750414, 11),\n",
       "                      names          RA        DEC  plate    mjd  fiber  \\\n",
       " 336175  105847.65+111115.8  164.698568  11.187737   5356  55979    876   \n",
       " 628131  163651.46+262656.8  249.214456  26.449127   4190  55686    354   \n",
       " 469936  132428.66+571640.9  201.119434  57.278030   8201  58146    270   \n",
       " 164256  080115.01+133642.2  120.312580  13.611725   4501  55590    178   \n",
       " 182875  082214.83+431701.9  125.561805  43.283863   8279  57063    420   \n",
       " 630872  164056.85+462447.5  250.236905  46.413220   6027  56103    652   \n",
       " 192099  083231.97+185400.6  128.133220  18.900192   9566  58083    283   \n",
       " 698251  224905.26+093044.0  342.271924   9.512226   5055  55889    319   \n",
       " 58011   010407.53+085816.8   16.031400   8.971344   4551  55569    485   \n",
       " 586810  154316.78+402634.9  235.819929  40.443039   4976  56046    718   \n",
       " 443420  125507.04+192459.7  193.779373  19.416594   5859  56065    664   \n",
       " 482284  133816.45+371639.8  204.568544  37.277746   8877  57782    538   \n",
       " 105887  015244.25+314541.0   28.184407  31.761413   7734  58133    920   \n",
       " 308469  103024.40+313520.8  157.601672  31.589120  10465  58144    576   \n",
       " 78524   012523.74+163344.8   21.348922  16.562467  11067  58507    992   \n",
       " \n",
       "                  z     z_vi z_src  select                objid  \n",
       " 336175 -999.000000 -999.000    VI       0  1237661949172121845  \n",
       " 628131 -999.000000 -999.000    VI       0  1237661465455755301  \n",
       " 469936 -999.000000 -999.000    VI       0  1237661388138348596  \n",
       " 164256 -999.000000 -999.000    VI       0  1237667211039408597  \n",
       " 182875   -0.002643   -1.000  PIPE       0  1237673706118513012  \n",
       " 630872   -0.001950    1.388  PIPE       0  1237654954277404762  \n",
       " 192099   -0.001452   -1.000  PIPE       0  1237667107964322175  \n",
       " 698251   -0.000801    0.650  PIPE       0  1237679035620786853  \n",
       " 58011    -0.000307    1.122  PIPE       0  1237678832147366153  \n",
       " 586810   -0.000259   -1.000  PIPE       0  1237662302979162548  \n",
       " 443420    0.000691    5.942  PIPE       0  1237668297670852658  \n",
       " 482284    0.000957   -1.000  PIPE       0  1237664293686542588  \n",
       " 105887    0.001668   -1.000  PIPE       0  1237678806386147950  \n",
       " 308469    0.004153   -1.000  PIPE       0  1237665127996981277  \n",
       " 78524     0.006583   -1.000  PIPE       0  1237679168231440658  )"
      ]
     },
     "execution_count": 5,
     "metadata": {},
     "output_type": "execute_result"
    }
   ],
   "source": [
    "df = pd.DataFrame(data=d)\n",
    "#df.to_csv(\"quasars.csv\")\n",
    "df.sort_values(\"z\", inplace=True)\n",
    "df.shape, df.head(15)"
   ]
  },
  {
   "cell_type": "code",
   "execution_count": 6,
   "metadata": {},
   "outputs": [
    {
     "data": {
      "text/plain": [
       "346893    278\n",
       "365860    281\n",
       "292693    270\n",
       "354522    279\n",
       "454312    294\n",
       "377694    283\n",
       "370533    282\n",
       "289508    270\n",
       "334528    276\n",
       "291906    270\n",
       "451045    294\n",
       "306690    273\n",
       "466450    296\n",
       "450018    294\n",
       "319406    275\n",
       "484990    299\n",
       "479259    298\n",
       "487507    299\n",
       "316246    274\n",
       "347060    278\n",
       "307422    273\n",
       "391175    285\n",
       "391118    285\n",
       "369474    282\n",
       "408329    287\n",
       "291866    270\n",
       "454943    294\n",
       "340367    277\n",
       "296451    271\n",
       "321966    274\n",
       "336939    277\n",
       "418458    289\n",
       "363757    281\n",
       "319947    274\n",
       "263789    266\n",
       "283136    269\n",
       "403192    287\n",
       "480997    298\n",
       "319391    274\n",
       "301211    272\n",
       "447871    293\n",
       "275683    267\n",
       "Name: plate, dtype: int32"
      ]
     },
     "execution_count": 6,
     "metadata": {},
     "output_type": "execute_result"
    }
   ],
   "source": [
    "#This isn't right -- why?\n",
    "df[\"plate\"][:5000][df[\"plate\"][:5000]<300]"
   ]
  },
  {
   "cell_type": "code",
   "execution_count": 7,
   "metadata": {},
   "outputs": [
    {
     "data": {
      "text/plain": [
       "(73325, 0)"
      ]
     },
     "execution_count": 7,
     "metadata": {},
     "output_type": "execute_result"
    }
   ],
   "source": [
    "#The quasars whose redshifts were determined \n",
    "#based on DR6Q also have those plate/MJD/fiber combos.\n",
    "#-->Need to submit separate queries and thus\n",
    "#need separate files.\n",
    "\n",
    "#Lowest plate number in dr16 directory is 3523\n",
    "\n",
    "df_dr6 = df[df[\"plate\"]<3523]\n",
    "df     = df[df[\"plate\"]>=3523]\n",
    "((df_dr6[\"z_src\"]==\"DR6Q_HW\")|(df_dr6[\"z_src\"]==\"DR7QV_SCH\")).sum(), \\\n",
    "((df[\"plate\"]<3523)).sum()"
   ]
  },
  {
   "cell_type": "code",
   "execution_count": 8,
   "metadata": {},
   "outputs": [],
   "source": [
    "#Separate csvs for separate queries\n",
    "\n",
    "#Uncomment to save to your machine\n",
    "\n",
    "#df.to_csv(\"quasars_dr16z.csv\")\n",
    "#df_dr6.to_csv(\"quasars_dr6z.csv\")"
   ]
  },
  {
   "cell_type": "code",
   "execution_count": 9,
   "metadata": {},
   "outputs": [
    {
     "name": "stderr",
     "output_type": "stream",
     "text": [
      "findfont: Font family ['serif'] not found. Falling back to DejaVu Sans.\n"
     ]
    },
    {
     "data": {
      "image/png": "[encoded data removed]",
      "text/plain": [
       "<Figure size 720x720 with 1 Axes>"
      ]
     },
     "metadata": {
      "needs_background": "light"
     },
     "output_type": "display_data"
    }
   ],
   "source": [
    "fig = plt.figure(figsize=(10,10))\n",
    "\n",
    "n1, bins1, patches1 = plt.hist(df[\"z\"][df[\"z\"]>0.], histtype=\"step\", bins=\"scott\", \n",
    "                      linewidth=2.5, label=\"$>750$k DR16 Quasars\")\n",
    "\n",
    "n2, bins2, patches2 = plt.hist(df[\"z_vi\"][((df[\"z_vi\"]>0.)&(df[\"z_src\"]==\"VI\"))], \n",
    "                      histtype=\"step\", bins=bins1, linewidth=2.5, label=\"VI Quasars\")\n",
    "\n",
    "#n3, bins3, patches3 = plt.hist(df[\"z_vi\"][((df[\"z_vi\"]>0.)&(df[\"z_src\"]==\"VI\"))], \n",
    "#                      histtype=\"step\", bins=bins1, linewidth=2.5, label=\"VI Quasars\")\n",
    "\n",
    "plt.plot(np.linspace(bins1[0], bins1[-1], len(bins1)-1), n1-n2, ':k')\n",
    "\n",
    "plt.xlabel(\"$z$\")\n",
    "plt.ylabel(\"Number of Quasars\")\n",
    "plt.legend(loc=\"best\", prop={\"size\": 22.5})\n",
    "plt.show()"
   ]
  },
  {
   "cell_type": "code",
   "execution_count": 10,
   "metadata": {},
   "outputs": [
    {
     "data": {
      "text/plain": [
       "677079.0"
      ]
     },
     "execution_count": 10,
     "metadata": {},
     "output_type": "execute_result"
    }
   ],
   "source": [
    "n1.sum()"
   ]
  },
  {
   "cell_type": "code",
   "execution_count": 11,
   "metadata": {},
   "outputs": [
    {
     "name": "stdout",
     "output_type": "stream",
     "text": [
      "Total number of quasars   :  677079\n",
      "Visually-inspected quasars:  319283\n"
     ]
    }
   ],
   "source": [
    "print(\"Total number of quasars   : %7d\" % n1.sum())\n",
    "print(\"Visually-inspected quasars: %7d\" % n2.sum())"
   ]
  },
  {
   "cell_type": "markdown",
   "metadata": {},
   "source": [
    "That obviously isn't right.  Check out the data model for what really indicates which quasars' redshifts were determined based on visual inspection"
   ]
  },
  {
   "cell_type": "code",
   "execution_count": 12,
   "metadata": {},
   "outputs": [
    {
     "data": {
      "text/plain": [
       "26"
      ]
     },
     "execution_count": 12,
     "metadata": {},
     "output_type": "execute_result"
    }
   ],
   "source": [
    "#Number of quasars in first 5000 records\n",
    "#with DR6Q redshifts\n",
    "(df[\"z_src\"][:5000]==\"DR6Q_HW\").sum()"
   ]
  },
  {
   "cell_type": "code",
   "execution_count": 13,
   "metadata": {},
   "outputs": [
    {
     "data": {
      "text/plain": [
       "336175      VI\n",
       "628131      VI\n",
       "469936      VI\n",
       "164256      VI\n",
       "182875    PIPE\n",
       "          ... \n",
       "176755    PIPE\n",
       "319412    PIPE\n",
       "152815    PIPE\n",
       "511161    PIPE\n",
       "348491    PIPE\n",
       "Name: z_src, Length: 5000, dtype: object"
      ]
     },
     "execution_count": 13,
     "metadata": {},
     "output_type": "execute_result"
    }
   ],
   "source": [
    "df[\"z_src\"][:5000]"
   ]
  },
  {
   "cell_type": "markdown",
   "metadata": {},
   "source": [
    "---\n",
    "\n",
    "quasar_list_one.awk:\n",
    "\n",
    "\n",
    "` NR==2,NR==15 { printf(\"%d/spec-%d-%d-%04d.fits\\n\", $5,$5,$6,$7) } `\n",
    "\n",
    "\n",
    "Command line:\n",
    "\n",
    "` awk -F \",\" -f quasar_list_one.awk quasars.csv > spec_list.txt `\n",
    "\n",
    "\n",
    "Now we can bulk-download spectra using this text file:\n",
    "\n",
    "` wget --spider -nv -r -nH --cut-dirs=7 \\\n",
    "-i speclist.txt \\\n",
    "-B https://data.sdss.org/sas/dr16/eboss/spectro/redux/v5_13_0/spectra/full/ `\n",
    "\n",
    "\n",
    "I tried getting 5000 quasars to start, knowing there would be some discrepancies with the DR6Q data.  Check how many we successfully download (should be ~5000-1566=3434)\n",
    "\n",
    "` find spectra/ -type f | wc -l `\n",
    "\n",
    "gets me 4721 files with <1GB.  Maybe some of the DR6 ones are okay, but should probably still just separate them entirely still so we don't miss any."
   ]
  },
  {
   "cell_type": "markdown",
   "metadata": {},
   "source": [
    "----\n",
    "\n",
    "Get all spectra with dr16 plates (~660k)\n",
    "\n",
    "` wget -nv -r -nH --cut-dirs=7 \\\n",
    "-i ../speclist_dr16.txt \\\n",
    "-B https://data.sdss.org/sas/dr16/eboss/spectro/redux/v5_13_0/spectra/lite/ `\n",
    "\n",
    "\n",
    "Get the rest with DR6/7 plates (~73k)\n",
    "\n",
    "` wget -nv -r -nH --cut-dirs=7 \\\n",
    "-i ../speclist_dr6.txt \\\n",
    "-B data.sdss.org/sas/dr16/sdss/spectro/redux/26/spectra/lite/ `\n",
    "\n",
    "\n",
    "Good.  This results in no errors fetching data."
   ]
  }
 ],
 "metadata": {
  "kernelspec": {
   "display_name": "Python 3",
   "language": "python",
   "name": "python3"
  },
  "language_info": {
   "codemirror_mode": {
    "name": "ipython",
    "version": 3
   },
   "file_extension": ".py",
   "mimetype": "text/x-python",
   "name": "python",
   "nbconvert_exporter": "python",
   "pygments_lexer": "ipython3",
   "version": "3.6.12"
  }
 },
 "nbformat": 4,
 "nbformat_minor": 4
}
